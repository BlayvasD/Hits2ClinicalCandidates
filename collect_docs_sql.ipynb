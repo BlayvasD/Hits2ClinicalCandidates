{
 "cells": [
  {
   "cell_type": "code",
   "execution_count": 3,
   "metadata": {},
   "outputs": [],
   "source": [
    "import duckdb\n",
    "import requests\n",
    "from concurrent.futures import ThreadPoolExecutor, as_completed\n",
    "from tqdm import tqdm\n",
    "import os\n",
    "\n",
    "input_csv = 'drug_docs_ph1to4_all.csv'\n",
    "output_csv = 'drug_docs_with_refs - Copy.csv'\n",
    "\n",
    "conn = duckdb.connect()"
   ]
  },
  {
   "cell_type": "code",
   "execution_count": 4,
   "metadata": {},
   "outputs": [
    {
     "name": "stdout",
     "output_type": "stream",
     "text": [
      "Resuming from row 200\n"
     ]
    }
   ],
   "source": [
    "conn.execute(f\"\"\"\n",
    "CREATE OR REPLACE TABLE papers AS \n",
    "SELECT * FROM read_csv_auto('{input_csv}')\n",
    "\"\"\")\n",
    "\n",
    "if os.path.exists(output_csv):\n",
    "    # Load existing progress\n",
    "    conn.execute(f\"CREATE OR REPLACE TABLE papers_with_refs AS SELECT * FROM read_csv_auto('{output_csv}')\")\n",
    "    # Find how many rows already processed\n",
    "    processed_count = conn.execute(\"SELECT COUNT(*) FROM papers_with_refs\").fetchone()[0]\n",
    "    print(f\"Resuming from row {processed_count}\")\n",
    "else:\n",
    "    # First run: create empty output table\n",
    "    conn.execute(\"\"\"\n",
    "    CREATE TABLE papers_with_refs AS\n",
    "    SELECT *, ''::VARCHAR AS references FROM papers WHERE 0\n",
    "    \"\"\")\n",
    "    processed_count = 0\n",
    "\n",
    "# Fetch DOIs for next batch of up to 20,000 new rows\n",
    "dois = conn.execute(f\"\"\"\n",
    "SELECT doi FROM papers\n",
    "ORDER BY doi\n",
    "LIMIT 20000 OFFSET {processed_count}\n",
    "\"\"\").fetchall()\n",
    "dois = [d[0] for d in dois]"
   ]
  },
  {
   "cell_type": "code",
   "execution_count": 5,
   "metadata": {},
   "outputs": [],
   "source": [
    "def get_references(doi):\n",
    "    if not doi:\n",
    "        return ''\n",
    "    try:\n",
    "        response = requests.get(f'https://api.crossref.org/works/{doi}', timeout=10)\n",
    "        if response.status_code == 200:\n",
    "            data = response.json()\n",
    "            refs = data.get('message', {}).get('reference', [])\n",
    "            dois = [ref.get('DOI') for ref in refs if ref.get('DOI')]\n",
    "            return ' '.join(dois)\n",
    "    except:\n",
    "        return ''\n",
    "    return ''\n",
    "\n",
    "def process_row(doi):\n",
    "    return doi, get_references(doi)"
   ]
  },
  {
   "cell_type": "code",
   "execution_count": null,
   "metadata": {},
   "outputs": [
    {
     "name": "stderr",
     "output_type": "stream",
     "text": [
      "  0%|          | 99/20000 [00:10<36:43,  9.03it/s]  \n"
     ]
    }
   ],
   "source": [
    "batch = []\n",
    "batch_size = 100\n",
    "with ThreadPoolExecutor(max_workers=16) as executor:\n",
    "    futures = [executor.submit(process_row, doi) for doi in dois]\n",
    "    for future in tqdm(as_completed(futures), total=len(futures)):\n",
    "        doi, refs = future.result()\n",
    "        batch.append((doi, refs))\n",
    "\n",
    "        # Append batch to DuckDB table\n",
    "        if len(batch) >= batch_size:\n",
    "            conn.executemany(\"\"\"\n",
    "                INSERT INTO papers_with_refs (doi, references)\n",
    "                VALUES (?, ?)\n",
    "            \"\"\", batch)\n",
    "            batch = []\n",
    "\n",
    "# Insert any remaining rows\n",
    "if batch:\n",
    "    conn.executemany(\"\"\"\n",
    "        INSERT INTO papers_with_refs (doi, references)\n",
    "        VALUES (?, ?)\n",
    "    \"\"\", batch)\n",
    "\n",
    "# Save DuckDB table to CSV\n",
    "conn.execute(f\"COPY papers_with_refs TO '{output_csv}' (HEADER, DELIMITER ',')\")\n",
    "print(\"Done\")\n"
   ]
  },
  {
   "cell_type": "code",
   "execution_count": null,
   "metadata": {},
   "outputs": [
    {
     "name": "stdout",
     "output_type": "stream",
     "text": [
      "Found 0 citation pairs\n"
     ]
    },
    {
     "data": {
      "text/html": [
       "<div>\n",
       "<style scoped>\n",
       "    .dataframe tbody tr th:only-of-type {\n",
       "        vertical-align: middle;\n",
       "    }\n",
       "\n",
       "    .dataframe tbody tr th {\n",
       "        vertical-align: top;\n",
       "    }\n",
       "\n",
       "    .dataframe thead th {\n",
       "        text-align: right;\n",
       "    }\n",
       "</style>\n",
       "<table border=\"1\" class=\"dataframe\">\n",
       "  <thead>\n",
       "    <tr style=\"text-align: right;\">\n",
       "      <th></th>\n",
       "      <th>citing_paper</th>\n",
       "      <th>citing_title</th>\n",
       "      <th>cited_paper</th>\n",
       "      <th>cited_title</th>\n",
       "    </tr>\n",
       "  </thead>\n",
       "  <tbody>\n",
       "  </tbody>\n",
       "</table>\n",
       "</div>"
      ],
      "text/plain": [
       "Empty DataFrame\n",
       "Columns: [citing_paper, citing_title, cited_paper, cited_title]\n",
       "Index: []"
      ]
     },
     "execution_count": 3,
     "metadata": {},
     "output_type": "execute_result"
    }
   ],
   "source": [
    "import duckdb\n",
    "import re\n",
    "\n",
    "# Load patterns\n",
    "with open('hit_synonyms.txt', 'r') as f:\n",
    "    patterns = [line.strip() for line in f if line.strip()]\n",
    "\n",
    "# Create regex pattern\n",
    "combined_pattern = '|'.join(patterns)\n",
    "\n",
    "# Load data into DuckDB\n",
    "conn = duckdb.connect()\n",
    "conn.execute(\"CREATE TABLE papers AS SELECT * FROM read_csv_auto('drug_docs_with_refs.csv')\")\n",
    "\n",
    "# Find citation pairs\n",
    "query = f\"\"\"\n",
    "SELECT DISTINCT \n",
    "    drg_paper.doi as drug_paper,\n",
    "    drg_paper.title as drug_title,\n",
    "    hit_paper.doi as hit_paper,\n",
    "    hit_paper.title as hit_title\n",
    "FROM papers drg_paper\n",
    "JOIN papers hit_paper ON drg_paper.references LIKE '%' || hit_paper.doi || '%'\n",
    "WHERE regexp_matches(hit_paper.title, '{combined_pattern}', 'i')\n",
    "    AND drg_paper.year >= hit_paper.year\n",
    "    AND drg_paper.doi != hit_paper.doi\n",
    "\"\"\"\n",
    "\n",
    "citation_pairs = conn.execute(query).df()\n",
    "print(f'Found {len(citation_pairs)} citation pairs')\n",
    "citation_pairs.head(10)"
   ]
  }
 ],
 "metadata": {
  "kernelspec": {
   "display_name": "base",
   "language": "python",
   "name": "python3"
  },
  "language_info": {
   "codemirror_mode": {
    "name": "ipython",
    "version": 3
   },
   "file_extension": ".py",
   "mimetype": "text/x-python",
   "name": "python",
   "nbconvert_exporter": "python",
   "pygments_lexer": "ipython3",
   "version": "3.13.5"
  }
 },
 "nbformat": 4,
 "nbformat_minor": 4
}
