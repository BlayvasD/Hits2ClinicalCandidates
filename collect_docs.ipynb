{
 "cells": [
  {
   "cell_type": "code",
   "execution_count": 14,
   "metadata": {},
   "outputs": [],
   "source": [
    "import pandas as pd\n",
    "import requests\n",
    "from tqdm.notebook import tqdm\n",
    "from concurrent.futures import ThreadPoolExecutor, as_completed, wait\n",
    "import os\n",
    "\n",
    "# File paths\n",
    "input_csv = 'drug_docs_ph1to4_all.csv'\n",
    "output_csv = 'drug_docs_with_refs.csv'\n",
    "\n",
    "# Load full input CSV\n",
    "df = pd.read_csv(input_csv)"
   ]
  },
  {
   "cell_type": "code",
   "execution_count": 15,
   "metadata": {},
   "outputs": [],
   "source": [
    "def get_references(doi):\n",
    "    if pd.isna(doi):\n",
    "        return ''\n",
    "    try:\n",
    "        response = requests.get(f'https://api.crossref.org/works/{doi}', timeout=10)\n",
    "        if response.status_code == 200:\n",
    "            data = response.json()\n",
    "            refs = data.get('message', {}).get('reference', [])\n",
    "            dois = [ref.get('DOI') for ref in refs if ref.get('DOI')]\n",
    "            return ' '.join(dois)\n",
    "    except:\n",
    "        return ''\n",
    "    return ''\n",
    "\n",
    "def process_row(idx, doi):\n",
    "    return idx, get_references(doi)"
   ]
  },
  {
   "cell_type": "code",
   "execution_count": 16,
   "metadata": {},
   "outputs": [
    {
     "data": {
      "text/plain": [
       "molregno                                                   97\n",
       "doc_id                                                   7244\n",
       "doc_type                                          PUBLICATION\n",
       "doi                                       10.1021/jm00143a012\n",
       "title       Synthesis and antihypertensive activity of a s...\n",
       "year                                                   1981.0\n",
       "Name: 0, dtype: object"
      ]
     },
     "execution_count": 16,
     "metadata": {},
     "output_type": "execute_result"
    }
   ],
   "source": [
    "# response = requests.get(f'https://api.crossref.org/works/{doi}', timeout=10)\n",
    "df.iloc[0]"
   ]
  },
  {
   "cell_type": "code",
   "execution_count": 17,
   "metadata": {},
   "outputs": [
    {
     "name": "stdout",
     "output_type": "stream",
     "text": [
      "Resuming from row 195654\n"
     ]
    },
    {
     "data": {
      "application/vnd.jupyter.widget-view+json": {
       "model_id": "a1a0112cb87b44e3a8e5d1238263da9c",
       "version_major": 2,
       "version_minor": 0
      },
      "text/plain": [
       "100%|##########| 195654/195654 [00:00<?, ?rows/s]"
      ]
     },
     "metadata": {},
     "output_type": "display_data"
    }
   ],
   "source": [
    "from math import ceil\n",
    "\n",
    "batch_size = 200\n",
    "\n",
    "# Detect existing output CSV to resume\n",
    "if os.path.exists(output_csv):\n",
    "    df_out = pd.read_csv(output_csv)\n",
    "    start_row = len(df_out)\n",
    "    print(f\"Resuming from row {start_row}\")\n",
    "else:\n",
    "    df_out = pd.DataFrame(columns=df.columns.tolist() + ['references'])\n",
    "    start_row = 0\n",
    "    print(\"Starting from row 0\")\n",
    "\n",
    "num_rows = len(df)\n",
    "num_batches = (num_rows + batch_size - 1) // batch_size\n",
    "\n",
    "pbar = tqdm(total=num_rows, initial=start_row, unit='rows')\n",
    "\n",
    "for batch_start in range(start_row, num_rows, batch_size):\n",
    "    batch_end = min(batch_start + batch_size, num_rows)\n",
    "    batch_rows = df.iloc[batch_start:batch_end]\n",
    "\n",
    "    results = []\n",
    "\n",
    "    with ThreadPoolExecutor(max_workers=16) as executor:\n",
    "        futures = [executor.submit(process_row, i, doi) for i, doi in zip(batch_rows.index, batch_rows['doi'])]\n",
    "        for future in as_completed(futures):\n",
    "            results.append(future.result())\n",
    "            pbar.update(1)\n",
    "\n",
    "    # Update DataFrame\n",
    "    for idx, refs in results:\n",
    "        df.at[idx, 'references'] = refs\n",
    "\n",
    "    # Append batch to output CSV\n",
    "    df_batch = df.iloc[batch_start:batch_end].copy()\n",
    "    if start_row == 0 and batch_start == 0:\n",
    "        df_batch.to_csv(output_csv, index=False)\n",
    "    else:\n",
    "        df_batch.to_csv(output_csv, index=False, mode='a', header=False)\n",
    "\n",
    "    # print(f\"Saved rows {batch_start}-{batch_end-1}\")\n",
    "\n",
    "pbar.close()"
   ]
  },
  {
   "cell_type": "code",
   "execution_count": null,
   "metadata": {},
   "outputs": [],
   "source": [
    "# for doi_1 in df['doi']:\n",
    "#     response = requests.get(f'https://api.crossref.org/works/{doi_1}', timeout=10)\n",
    "#     try:\n",
    "#         abstract = response.json()['message'].get('abstract', '')\n",
    "#     except JSONDecodeError:\n",
    "#         continue\n",
    "#     if abstract:\n",
    "#         print(doi_1)\n",
    "#         print(abstract)"
   ]
  },
  {
   "cell_type": "code",
   "execution_count": 5,
   "metadata": {},
   "outputs": [
    {
     "name": "stdout",
     "output_type": "stream",
     "text": [
      "Loaded 11 patterns.\n"
     ]
    }
   ],
   "source": [
    "# Load patterns from hit_synonyms.txt\n",
    "with open('hit_synonyms.txt', 'r') as f:\n",
    "    patterns = [line.strip() for line in f if line.strip()]\n",
    "\n",
    "# Create pattern names by removing \\b boundaries\n",
    "pattern_names = [pattern.replace('\\\\b', '') for pattern in patterns]\n",
    "\n",
    "print(f\"Loaded {len(patterns)} patterns.\")"
   ]
  },
  {
   "cell_type": "code",
   "execution_count": 6,
   "metadata": {},
   "outputs": [
    {
     "data": {
      "application/vnd.jupyter.widget-view+json": {
       "model_id": "74306f52540c422dba4212805a22a937",
       "version_major": 2,
       "version_minor": 0
      },
      "text/plain": [
       "FloatProgress(value=0.0, layout=Layout(width='auto'), style=ProgressStyle(bar_color='black'))"
      ]
     },
     "metadata": {},
     "output_type": "display_data"
    },
    {
     "name": "stdout",
     "output_type": "stream",
     "text": [
      "Found 12535 citation pairs\n"
     ]
    },
    {
     "data": {
      "text/html": [
       "<div>\n",
       "<style scoped>\n",
       "    .dataframe tbody tr th:only-of-type {\n",
       "        vertical-align: middle;\n",
       "    }\n",
       "\n",
       "    .dataframe tbody tr th {\n",
       "        vertical-align: top;\n",
       "    }\n",
       "\n",
       "    .dataframe thead th {\n",
       "        text-align: right;\n",
       "    }\n",
       "</style>\n",
       "<table border=\"1\" class=\"dataframe\">\n",
       "  <thead>\n",
       "    <tr style=\"text-align: right;\">\n",
       "      <th></th>\n",
       "      <th>molregno</th>\n",
       "      <th>hit_paper</th>\n",
       "      <th>hit_title</th>\n",
       "      <th>drug_paper</th>\n",
       "      <th>drug_title</th>\n",
       "    </tr>\n",
       "  </thead>\n",
       "  <tbody>\n",
       "    <tr>\n",
       "      <th>0</th>\n",
       "      <td>97</td>\n",
       "      <td>10.1021/jm0307842</td>\n",
       "      <td>Alpha1-adrenoceptor antagonists. 6. Structural...</td>\n",
       "      <td>10.1016/j.bmc.2010.11.051</td>\n",
       "      <td>Pharmacophore models based studies on the affi...</td>\n",
       "    </tr>\n",
       "    <tr>\n",
       "      <th>1</th>\n",
       "      <td>97</td>\n",
       "      <td>10.1021/jm0307842</td>\n",
       "      <td>Alpha1-adrenoceptor antagonists. 6. Structural...</td>\n",
       "      <td>10.1016/j.bmcl.2008.07.084</td>\n",
       "      <td>Synthesis and biological affinity of new imida...</td>\n",
       "    </tr>\n",
       "    <tr>\n",
       "      <th>2</th>\n",
       "      <td>97</td>\n",
       "      <td>10.1021/jm7015683</td>\n",
       "      <td>Prediction and identification of drug interact...</td>\n",
       "      <td>10.1093/toxsci/kft176</td>\n",
       "      <td>A multifactorial approach to hepatobiliary tra...</td>\n",
       "    </tr>\n",
       "    <tr>\n",
       "      <th>3</th>\n",
       "      <td>97</td>\n",
       "      <td>10.1021/jm00120a003</td>\n",
       "      <td>Antihypertensive activity in a series of 1-pip...</td>\n",
       "      <td>10.1016/0960-894X(95)00092-8</td>\n",
       "      <td>Synthesis, biological in vitro evaluation and ...</td>\n",
       "    </tr>\n",
       "    <tr>\n",
       "      <th>4</th>\n",
       "      <td>97</td>\n",
       "      <td>10.1016/j.bmcl.2014.02.066</td>\n",
       "      <td>Evaluation of structural effects on 5-HT(2A) r...</td>\n",
       "      <td>10.1039/C7MD00629B</td>\n",
       "      <td>Synthesis and evaluation of nuciferine and roe...</td>\n",
       "    </tr>\n",
       "    <tr>\n",
       "      <th>...</th>\n",
       "      <td>...</td>\n",
       "      <td>...</td>\n",
       "      <td>...</td>\n",
       "      <td>...</td>\n",
       "      <td>...</td>\n",
       "    </tr>\n",
       "    <tr>\n",
       "      <th>12530</th>\n",
       "      <td>2755078</td>\n",
       "      <td>10.1021/acs.jmedchem.2c00117</td>\n",
       "      <td>Discovery of S-217622, a Noncovalent Oral SARS...</td>\n",
       "      <td>10.1021/acs.jmedchem.2c01146</td>\n",
       "      <td>Discovery and Crystallographic Studies of Tris...</td>\n",
       "    </tr>\n",
       "    <tr>\n",
       "      <th>12531</th>\n",
       "      <td>2755078</td>\n",
       "      <td>10.1021/acs.jmedchem.2c00117</td>\n",
       "      <td>Discovery of S-217622, a Noncovalent Oral SARS...</td>\n",
       "      <td>10.1021/acsmedchemlett.3c00335</td>\n",
       "      <td>Design and Optimization of Novel Competitive, ...</td>\n",
       "    </tr>\n",
       "    <tr>\n",
       "      <th>12532</th>\n",
       "      <td>2755078</td>\n",
       "      <td>10.1021/acs.jmedchem.2c00117</td>\n",
       "      <td>Discovery of S-217622, a Noncovalent Oral SARS...</td>\n",
       "      <td>10.1021/acsmedchemlett.2c00349</td>\n",
       "      <td>Oral Nonpeptidic, Noncovalent Triazine Coronav...</td>\n",
       "    </tr>\n",
       "    <tr>\n",
       "      <th>12533</th>\n",
       "      <td>2755078</td>\n",
       "      <td>10.1021/acs.jmedchem.2c00117</td>\n",
       "      <td>Discovery of S-217622, a Noncovalent Oral SARS...</td>\n",
       "      <td>10.1016/j.ejmech.2023.115503</td>\n",
       "      <td>Bench-to-bedside: Innovation of small molecule...</td>\n",
       "    </tr>\n",
       "    <tr>\n",
       "      <th>12534</th>\n",
       "      <td>2755078</td>\n",
       "      <td>10.1021/acs.jmedchem.2c00117</td>\n",
       "      <td>Discovery of S-217622, a Noncovalent Oral SARS...</td>\n",
       "      <td>10.1016/j.ejmech.2023.115491</td>\n",
       "      <td>The research progress of SARS-CoV-2 main prote...</td>\n",
       "    </tr>\n",
       "  </tbody>\n",
       "</table>\n",
       "<p>12535 rows × 5 columns</p>\n",
       "</div>"
      ],
      "text/plain": [
       "       molregno                     hit_paper  \\\n",
       "0            97             10.1021/jm0307842   \n",
       "1            97             10.1021/jm0307842   \n",
       "2            97             10.1021/jm7015683   \n",
       "3            97           10.1021/jm00120a003   \n",
       "4            97    10.1016/j.bmcl.2014.02.066   \n",
       "...         ...                           ...   \n",
       "12530   2755078  10.1021/acs.jmedchem.2c00117   \n",
       "12531   2755078  10.1021/acs.jmedchem.2c00117   \n",
       "12532   2755078  10.1021/acs.jmedchem.2c00117   \n",
       "12533   2755078  10.1021/acs.jmedchem.2c00117   \n",
       "12534   2755078  10.1021/acs.jmedchem.2c00117   \n",
       "\n",
       "                                               hit_title  \\\n",
       "0      Alpha1-adrenoceptor antagonists. 6. Structural...   \n",
       "1      Alpha1-adrenoceptor antagonists. 6. Structural...   \n",
       "2      Prediction and identification of drug interact...   \n",
       "3      Antihypertensive activity in a series of 1-pip...   \n",
       "4      Evaluation of structural effects on 5-HT(2A) r...   \n",
       "...                                                  ...   \n",
       "12530  Discovery of S-217622, a Noncovalent Oral SARS...   \n",
       "12531  Discovery of S-217622, a Noncovalent Oral SARS...   \n",
       "12532  Discovery of S-217622, a Noncovalent Oral SARS...   \n",
       "12533  Discovery of S-217622, a Noncovalent Oral SARS...   \n",
       "12534  Discovery of S-217622, a Noncovalent Oral SARS...   \n",
       "\n",
       "                           drug_paper  \\\n",
       "0           10.1016/j.bmc.2010.11.051   \n",
       "1          10.1016/j.bmcl.2008.07.084   \n",
       "2               10.1093/toxsci/kft176   \n",
       "3        10.1016/0960-894X(95)00092-8   \n",
       "4                  10.1039/C7MD00629B   \n",
       "...                               ...   \n",
       "12530    10.1021/acs.jmedchem.2c01146   \n",
       "12531  10.1021/acsmedchemlett.3c00335   \n",
       "12532  10.1021/acsmedchemlett.2c00349   \n",
       "12533    10.1016/j.ejmech.2023.115503   \n",
       "12534    10.1016/j.ejmech.2023.115491   \n",
       "\n",
       "                                              drug_title  \n",
       "0      Pharmacophore models based studies on the affi...  \n",
       "1      Synthesis and biological affinity of new imida...  \n",
       "2      A multifactorial approach to hepatobiliary tra...  \n",
       "3      Synthesis, biological in vitro evaluation and ...  \n",
       "4      Synthesis and evaluation of nuciferine and roe...  \n",
       "...                                                  ...  \n",
       "12530  Discovery and Crystallographic Studies of Tris...  \n",
       "12531  Design and Optimization of Novel Competitive, ...  \n",
       "12532  Oral Nonpeptidic, Noncovalent Triazine Coronav...  \n",
       "12533  Bench-to-bedside: Innovation of small molecule...  \n",
       "12534  The research progress of SARS-CoV-2 main prote...  \n",
       "\n",
       "[12535 rows x 5 columns]"
      ]
     },
     "execution_count": 6,
     "metadata": {},
     "output_type": "execute_result"
    }
   ],
   "source": [
    "import duckdb\n",
    "import re\n",
    "\n",
    "# Create regex pattern\n",
    "combined_pattern = '|'.join(patterns)\n",
    "\n",
    "# Load data into DuckDB\n",
    "conn = duckdb.connect()\n",
    "conn.execute(\"CREATE TABLE papers AS SELECT * FROM read_csv_auto('drug_docs_with_refs.csv')\")\n",
    "\n",
    "# Find citation pairs\n",
    "query = f\"\"\"\n",
    "SELECT DISTINCT \n",
    "    hit_paper.molregno as molregno,\n",
    "    hit_paper.doi as hit_paper,\n",
    "    hit_paper.title as hit_title,\n",
    "    drg_paper.doi as drug_paper,\n",
    "    drg_paper.title as drug_title\n",
    "FROM papers drg_paper\n",
    "JOIN papers hit_paper ON drg_paper.references LIKE '%' || hit_paper.doi || '%'\n",
    "WHERE regexp_matches(hit_paper.title, '{combined_pattern}', 'i')\n",
    "    AND drg_paper.doi != hit_paper.doi\n",
    "    AND drg_paper.molregno == hit_paper.molregno\n",
    "ORDER BY hit_paper.molregno\n",
    "\"\"\"\n",
    "\n",
    "citation_pairs = conn.execute(query).df()\n",
    "print(f'Found {len(citation_pairs)} citation pairs')\n",
    "citation_pairs"
   ]
  },
  {
   "cell_type": "code",
   "execution_count": 7,
   "metadata": {},
   "outputs": [
    {
     "name": "stderr",
     "output_type": "stream",
     "text": [
      "C:\\Users\\legit\\AppData\\Local\\Temp\\ipykernel_25352\\3725921384.py:11: UserWarning: This pattern is interpreted as a regular expression, and has match groups. To actually get the groups, use str.extract.\n",
      "  count = df_pairs.str.contains(pattern, case=False, regex=True, na=False).sum()\n",
      "C:\\Users\\legit\\AppData\\Local\\Temp\\ipykernel_25352\\3725921384.py:12: UserWarning: This pattern is interpreted as a regular expression, and has match groups. To actually get the groups, use str.extract.\n",
      "  count_unique = df_pairs_unique.str.contains(pattern, case=False, regex=True, na=False).sum()\n"
     ]
    },
    {
     "name": "stdout",
     "output_type": "stream",
     "text": [
      "Pattern match counts in citation pairs:\n",
      "             pattern  count_in_pairs  count_in_unique_titles\n",
      "high[\\s-]?throughput             622                      41\n",
      "                 HTS              35                       7\n",
      "   screen(ing|ed|s)?            1721                     321\n",
      "             hit(s)?             360                      61\n",
      "      identification            3694                     660\n",
      "    optimi(s|z)ation            2390                     470\n",
      "              series            3642                     688\n",
      "            compound             387                      66\n",
      "         candidates?            1115                     199\n",
      "            fragment             414                      88\n",
      "      phenotyp(e|ic)              60                      19\n",
      "               total           14440                    2620\n"
     ]
    }
   ],
   "source": [
    "# Analyze pattern matches using pandas\n",
    "import re\n",
    "\n",
    "# Convert to DataFrame and count matches\n",
    "df_pairs = pd.DataFrame(citation_pairs)['hit_title']\n",
    "df_pairs_unique = pd.Series(list(set(df_pairs)))\n",
    "pattern_counts = []\n",
    "pattern_counts_unique = []\n",
    "\n",
    "for i, pattern in enumerate(patterns):\n",
    "    count = df_pairs.str.contains(pattern, case=False, regex=True, na=False).sum()\n",
    "    count_unique = df_pairs_unique.str.contains(pattern, case=False, regex=True, na=False).sum()\n",
    "    pattern_counts.append([pattern_names[i], count, count_unique])\n",
    "\n",
    "results_df = pd.DataFrame(pattern_counts, columns=['pattern', 'count_in_pairs', 'count_in_unique_titles'])\n",
    "\n",
    "# Add total row\n",
    "total_row = pd.DataFrame({\n",
    "    'pattern': ['total'],\n",
    "    'count_in_pairs': [results_df['count_in_pairs'].sum()],\n",
    "    'count_in_unique_titles': [results_df['count_in_unique_titles'].sum()]\n",
    "})\n",
    "\n",
    "results_df = pd.concat([results_df, total_row], ignore_index=True)\n",
    "\n",
    "# Display results\n",
    "print('Pattern match counts in citation pairs:')\n",
    "print(results_df.to_string(index=False))\n"
   ]
  },
  {
   "cell_type": "code",
   "execution_count": 8,
   "metadata": {},
   "outputs": [
    {
     "name": "stderr",
     "output_type": "stream",
     "text": [
      "C:\\Users\\legit\\AppData\\Local\\Temp\\ipykernel_25352\\2111510102.py:1: UserWarning: This pattern is interpreted as a regular expression, and has match groups. To actually get the groups, use str.extract.\n",
      "  count_patterns = lambda title: sum(1 for pattern in patterns if pd.Series([title]).str.contains(pattern, case=False, regex=True, na=False).iloc[0])\n",
      "C:\\Users\\legit\\AppData\\Local\\Temp\\ipykernel_25352\\2111510102.py:1: UserWarning: This pattern is interpreted as a regular expression, and has match groups. To actually get the groups, use str.extract.\n",
      "  count_patterns = lambda title: sum(1 for pattern in patterns if pd.Series([title]).str.contains(pattern, case=False, regex=True, na=False).iloc[0])\n"
     ]
    }
   ],
   "source": [
    "count_patterns = lambda title: sum(1 for pattern in patterns if pd.Series([title]).str.contains(pattern, case=False, regex=True, na=False).iloc[0])\n",
    "\n",
    "# Add column counting pattern matches in hit_title\n",
    "citation_pairs['pattern_count'] = citation_pairs['hit_title'].apply(\n",
    "    count_patterns\n",
    ")\n",
    "\n",
    "pattern_count_unique = pd.Series(citation_pairs['hit_title'].unique()).apply(\n",
    "    count_patterns\n",
    ")"
   ]
  },
  {
   "cell_type": "code",
   "execution_count": 9,
   "metadata": {},
   "outputs": [
    {
     "name": "stdout",
     "output_type": "stream",
     "text": [
      "Pattern count distribution:\n",
      "   Row counts  Unique counts\n",
      "5           1              1\n",
      "4          25              5\n",
      "3         260             55\n",
      "2        1306            217\n",
      "1       10943           1996\n"
     ]
    }
   ],
   "source": [
    "print(f\"Pattern count distribution:\")\n",
    "print(pd.DataFrame({'Row counts': \n",
    "                    citation_pairs['pattern_count'].value_counts().sort_index(ascending=False), \n",
    "                    'Unique counts': \n",
    "                    pattern_count_unique.value_counts().sort_index(ascending=False)\n",
    "                    }))"
   ]
  },
  {
   "cell_type": "code",
   "execution_count": 10,
   "metadata": {},
   "outputs": [],
   "source": [
    "import duckdb\n",
    "\n",
    "# Write citation pairs to CSV using DuckDB\n",
    "try:\n",
    "    citation_pairs.sort_values('pattern_count', ascending=False).to_csv('citation_pairs.csv', index=False)\n",
    "except PermissionError:\n",
    "    class MoronError(Exception):\n",
    "        pass\n",
    "    raise MoronError(\"Close Excel you dummy\")"
   ]
  },
  {
   "cell_type": "code",
   "execution_count": 11,
   "metadata": {},
   "outputs": [
    {
     "name": "stdout",
     "output_type": "stream",
     "text": [
      "Number of unique molregno: 1215\n"
     ]
    }
   ],
   "source": [
    "\n",
    "# Import required libraries\n",
    "import pandas as pd\n",
    "\n",
    "# Read the citation_pairs data\n",
    "citation_pairs = pd.read_csv('citation_pairs.csv')\n",
    "\n",
    "# Count unique molregno values\n",
    "unique_molregno_count = citation_pairs['molregno'].nunique()\n",
    "\n",
    "# Print the count\n",
    "print(f\"Number of unique molregno: {unique_molregno_count}\")"
   ]
  },
  {
   "cell_type": "code",
   "execution_count": null,
   "metadata": {},
   "outputs": [],
   "source": []
  }
 ],
 "metadata": {
  "kernelspec": {
   "display_name": "base",
   "language": "python",
   "name": "python3"
  },
  "language_info": {
   "codemirror_mode": {
    "name": "ipython",
    "version": 3
   },
   "file_extension": ".py",
   "mimetype": "text/x-python",
   "name": "python",
   "nbconvert_exporter": "python",
   "pygments_lexer": "ipython3",
   "version": "3.13.5"
  }
 },
 "nbformat": 4,
 "nbformat_minor": 4
}
